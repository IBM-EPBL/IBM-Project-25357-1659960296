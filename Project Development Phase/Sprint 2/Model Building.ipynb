{
 "cells": [
  {
   "cell_type": "code",
   "execution_count": 29,
   "id": "15c6f549",
   "metadata": {},
   "outputs": [],
   "source": [
    "import pandas as pd\n",
    "import numpy as np\n",
    "from sklearn.preprocessing import MaxAbsScaler\n",
    "from sklearn.tree import DecisionTreeClassifier\n",
    "from sklearn.ensemble import RandomForestClassifier\n",
    "from sklearn.neighbors import KNeighborsClassifier\n",
    "from sklearn.ensemble import GradientBoostingClassifier\n",
    "from sklearn.metrics import confusion_matrix\n",
    "from sklearn.metrics import classification_report\n",
    "from sklearn.model_selection import cross_val_score\n",
    "from sklearn.metrics import f1_score\n",
    "import pickle"
   ]
  },
  {
   "cell_type": "code",
   "execution_count": 30,
   "id": "42dfe224",
   "metadata": {},
   "outputs": [],
   "source": [
    "scaler = MaxAbsScaler()"
   ]
  },
  {
   "cell_type": "code",
   "execution_count": 31,
   "id": "24d7cce7",
   "metadata": {},
   "outputs": [],
   "source": [
    "train = pd.read_csv('train.csv')"
   ]
  },
  {
   "cell_type": "code",
   "execution_count": 32,
   "id": "5072b35a",
   "metadata": {},
   "outputs": [],
   "source": [
    "test = pd.read_csv('test.csv')"
   ]
  },
  {
   "cell_type": "code",
   "execution_count": 33,
   "id": "c3bdf6e7",
   "metadata": {},
   "outputs": [
    {
     "data": {
      "text/html": [
       "<div>\n",
       "<style scoped>\n",
       "    .dataframe tbody tr th:only-of-type {\n",
       "        vertical-align: middle;\n",
       "    }\n",
       "\n",
       "    .dataframe tbody tr th {\n",
       "        vertical-align: top;\n",
       "    }\n",
       "\n",
       "    .dataframe thead th {\n",
       "        text-align: right;\n",
       "    }\n",
       "</style>\n",
       "<table border=\"1\" class=\"dataframe\">\n",
       "  <thead>\n",
       "    <tr style=\"text-align: right;\">\n",
       "      <th></th>\n",
       "      <th>Gender</th>\n",
       "      <th>Married</th>\n",
       "      <th>Dependents</th>\n",
       "      <th>Education</th>\n",
       "      <th>Self_Employed</th>\n",
       "      <th>ApplicantIncome</th>\n",
       "      <th>CoapplicantIncome</th>\n",
       "      <th>LoanAmount</th>\n",
       "      <th>Loan_Amount_Term</th>\n",
       "      <th>Credit_History</th>\n",
       "      <th>Property_Area</th>\n",
       "      <th>Loan_Status</th>\n",
       "    </tr>\n",
       "  </thead>\n",
       "  <tbody>\n",
       "    <tr>\n",
       "      <th>0</th>\n",
       "      <td>1</td>\n",
       "      <td>1</td>\n",
       "      <td>0</td>\n",
       "      <td>0</td>\n",
       "      <td>0</td>\n",
       "      <td>6000</td>\n",
       "      <td>2250.0</td>\n",
       "      <td>265.0</td>\n",
       "      <td>360.0</td>\n",
       "      <td>1</td>\n",
       "      <td>1</td>\n",
       "      <td>0</td>\n",
       "    </tr>\n",
       "    <tr>\n",
       "      <th>1</th>\n",
       "      <td>1</td>\n",
       "      <td>1</td>\n",
       "      <td>0</td>\n",
       "      <td>0</td>\n",
       "      <td>0</td>\n",
       "      <td>2958</td>\n",
       "      <td>2900.0</td>\n",
       "      <td>131.0</td>\n",
       "      <td>360.0</td>\n",
       "      <td>1</td>\n",
       "      <td>1</td>\n",
       "      <td>1</td>\n",
       "    </tr>\n",
       "    <tr>\n",
       "      <th>2</th>\n",
       "      <td>1</td>\n",
       "      <td>1</td>\n",
       "      <td>2</td>\n",
       "      <td>0</td>\n",
       "      <td>0</td>\n",
       "      <td>6250</td>\n",
       "      <td>1695.0</td>\n",
       "      <td>210.0</td>\n",
       "      <td>360.0</td>\n",
       "      <td>1</td>\n",
       "      <td>1</td>\n",
       "      <td>1</td>\n",
       "    </tr>\n",
       "    <tr>\n",
       "      <th>3</th>\n",
       "      <td>1</td>\n",
       "      <td>1</td>\n",
       "      <td>0</td>\n",
       "      <td>0</td>\n",
       "      <td>0</td>\n",
       "      <td>2083</td>\n",
       "      <td>3150.0</td>\n",
       "      <td>128.0</td>\n",
       "      <td>360.0</td>\n",
       "      <td>1</td>\n",
       "      <td>1</td>\n",
       "      <td>1</td>\n",
       "    </tr>\n",
       "    <tr>\n",
       "      <th>4</th>\n",
       "      <td>1</td>\n",
       "      <td>0</td>\n",
       "      <td>0</td>\n",
       "      <td>0</td>\n",
       "      <td>0</td>\n",
       "      <td>4166</td>\n",
       "      <td>0.0</td>\n",
       "      <td>98.0</td>\n",
       "      <td>360.0</td>\n",
       "      <td>0</td>\n",
       "      <td>1</td>\n",
       "      <td>0</td>\n",
       "    </tr>\n",
       "  </tbody>\n",
       "</table>\n",
       "</div>"
      ],
      "text/plain": [
       "   Gender  Married  Dependents  Education  Self_Employed  ApplicantIncome  \\\n",
       "0       1        1           0          0              0             6000   \n",
       "1       1        1           0          0              0             2958   \n",
       "2       1        1           2          0              0             6250   \n",
       "3       1        1           0          0              0             2083   \n",
       "4       1        0           0          0              0             4166   \n",
       "\n",
       "   CoapplicantIncome  LoanAmount  Loan_Amount_Term  Credit_History  \\\n",
       "0             2250.0       265.0             360.0               1   \n",
       "1             2900.0       131.0             360.0               1   \n",
       "2             1695.0       210.0             360.0               1   \n",
       "3             3150.0       128.0             360.0               1   \n",
       "4                0.0        98.0             360.0               0   \n",
       "\n",
       "   Property_Area  Loan_Status  \n",
       "0              1            0  \n",
       "1              1            1  \n",
       "2              1            1  \n",
       "3              1            1  \n",
       "4              1            0  "
      ]
     },
     "execution_count": 33,
     "metadata": {},
     "output_type": "execute_result"
    }
   ],
   "source": [
    "train.head()"
   ]
  },
  {
   "cell_type": "code",
   "execution_count": 34,
   "id": "06189906",
   "metadata": {},
   "outputs": [],
   "source": [
    "train_y = train.iloc[:,-1]"
   ]
  },
  {
   "cell_type": "code",
   "execution_count": 35,
   "id": "011a12b0",
   "metadata": {},
   "outputs": [],
   "source": [
    "train_x = train.drop('Loan_Status',axis=1)"
   ]
  },
  {
   "cell_type": "code",
   "execution_count": 36,
   "id": "13da6e90",
   "metadata": {},
   "outputs": [],
   "source": [
    "test_y = test.iloc[:,-1]"
   ]
  },
  {
   "cell_type": "code",
   "execution_count": 37,
   "id": "488e12b5",
   "metadata": {},
   "outputs": [],
   "source": [
    "test_x = test.drop('Loan_Status',axis=1)"
   ]
  },
  {
   "cell_type": "code",
   "execution_count": 38,
   "id": "ae66833f",
   "metadata": {},
   "outputs": [],
   "source": [
    "x = pd.concat([train_x,test_x],axis=0)\n",
    "y = pd.concat([train_y,test_y],axis=0)"
   ]
  },
  {
   "cell_type": "code",
   "execution_count": 39,
   "id": "b7e9e9e8",
   "metadata": {},
   "outputs": [],
   "source": [
    "train_x = scaler.fit_transform(train_x)"
   ]
  },
  {
   "cell_type": "code",
   "execution_count": 40,
   "id": "831fcdaf",
   "metadata": {},
   "outputs": [],
   "source": [
    "test_x = scaler.fit_transform(test_x)"
   ]
  },
  {
   "cell_type": "markdown",
   "id": "e52529c9",
   "metadata": {},
   "source": [
    "# DecisionTree"
   ]
  },
  {
   "cell_type": "code",
   "execution_count": 41,
   "id": "2b10e8ac",
   "metadata": {},
   "outputs": [],
   "source": [
    "def decisionTree(train_x,test_x,train_y,test_y):\n",
    "    dt = DecisionTreeClassifier()\n",
    "    dt.fit(train_x,train_y)\n",
    "    y_pred = dt.predict(test_x)\n",
    "    print(\"**** Decision Tree Classifier ****\")\n",
    "    print('Confusion Matrix')\n",
    "    print(confusion_matrix(test_y,y_pred))\n",
    "    print('Classification Report')\n",
    "    print(classification_report(test_y,y_pred))"
   ]
  },
  {
   "cell_type": "markdown",
   "id": "dc3ea0c7",
   "metadata": {},
   "source": [
    "# RandomForest"
   ]
  },
  {
   "cell_type": "code",
   "execution_count": 42,
   "id": "3865daba",
   "metadata": {},
   "outputs": [],
   "source": [
    "def randomForest(train_x,test_x,train_y,test_y):\n",
    "    rf = RandomForestClassifier()\n",
    "    rf.fit(train_x,train_y)\n",
    "    y_pred = rf.predict(test_x)\n",
    "    print(\"**** Random Forest Classifier ****\")\n",
    "    print('Confusion Matrix')\n",
    "    print(confusion_matrix(test_y,y_pred))\n",
    "    print('Classification Report')\n",
    "    print(classification_report(test_y,y_pred))"
   ]
  },
  {
   "cell_type": "markdown",
   "id": "11e71775",
   "metadata": {},
   "source": [
    "# Knn"
   ]
  },
  {
   "cell_type": "code",
   "execution_count": 43,
   "id": "49ddb193",
   "metadata": {},
   "outputs": [],
   "source": [
    "def knn(train_x,test_x,train_y,test_y):\n",
    "    knn = KNeighborsClassifier()\n",
    "    knn.fit(train_x,train_y)\n",
    "    y_pred = knn.predict(test_x)\n",
    "    print(\"**** KNeighbour Classifier ****\")\n",
    "    print('Confusion Matrix')\n",
    "    print(confusion_matrix(test_y,y_pred))\n",
    "    print('Classification Report')\n",
    "    print(classification_report(test_y,y_pred))"
   ]
  },
  {
   "cell_type": "markdown",
   "id": "ae36223b",
   "metadata": {},
   "source": [
    "# xgboost"
   ]
  },
  {
   "cell_type": "code",
   "execution_count": 44,
   "id": "a8f553bb",
   "metadata": {},
   "outputs": [],
   "source": [
    "def xgboost(train_x,test_x,train_y,test_y):\n",
    "    xg = GradientBoostingClassifier()\n",
    "    xg.fit(train_x,train_y)\n",
    "    y_pred = xg.predict(test_x)\n",
    "    print(\"**** Gradient Boosting Classifier ****\")\n",
    "    print('Confusion Matrix')\n",
    "    print(confusion_matrix(test_y,y_pred))\n",
    "    print('Classification Report')\n",
    "    print(classification_report(test_y,y_pred))"
   ]
  },
  {
   "cell_type": "markdown",
   "id": "15bd2edf",
   "metadata": {},
   "source": [
    "# Comparing The Models"
   ]
  },
  {
   "cell_type": "code",
   "execution_count": 45,
   "id": "b3fe139e",
   "metadata": {},
   "outputs": [
    {
     "name": "stdout",
     "output_type": "stream",
     "text": [
      "**** Decision Tree Classifier ****\n",
      "Confusion Matrix\n",
      "[[31 12]\n",
      " [27 53]]\n",
      "Classification Report\n",
      "              precision    recall  f1-score   support\n",
      "\n",
      "           0       0.53      0.72      0.61        43\n",
      "           1       0.82      0.66      0.73        80\n",
      "\n",
      "    accuracy                           0.68       123\n",
      "   macro avg       0.67      0.69      0.67       123\n",
      "weighted avg       0.72      0.68      0.69       123\n",
      "\n"
     ]
    }
   ],
   "source": [
    "decisionTree(train_x,test_x,train_y,test_y)"
   ]
  },
  {
   "cell_type": "code",
   "execution_count": 46,
   "id": "585cbfe3",
   "metadata": {},
   "outputs": [
    {
     "name": "stdout",
     "output_type": "stream",
     "text": [
      "**** Random Forest Classifier ****\n",
      "Confusion Matrix\n",
      "[[23 20]\n",
      " [ 8 72]]\n",
      "Classification Report\n",
      "              precision    recall  f1-score   support\n",
      "\n",
      "           0       0.74      0.53      0.62        43\n",
      "           1       0.78      0.90      0.84        80\n",
      "\n",
      "    accuracy                           0.77       123\n",
      "   macro avg       0.76      0.72      0.73       123\n",
      "weighted avg       0.77      0.77      0.76       123\n",
      "\n"
     ]
    }
   ],
   "source": [
    "randomForest(train_x,test_x,train_y,test_y)"
   ]
  },
  {
   "cell_type": "code",
   "execution_count": 47,
   "id": "2e04f537",
   "metadata": {},
   "outputs": [
    {
     "name": "stdout",
     "output_type": "stream",
     "text": [
      "**** KNeighbour Classifier ****\n",
      "Confusion Matrix\n",
      "[[18 25]\n",
      " [ 3 77]]\n",
      "Classification Report\n",
      "              precision    recall  f1-score   support\n",
      "\n",
      "           0       0.86      0.42      0.56        43\n",
      "           1       0.75      0.96      0.85        80\n",
      "\n",
      "    accuracy                           0.77       123\n",
      "   macro avg       0.81      0.69      0.70       123\n",
      "weighted avg       0.79      0.77      0.75       123\n",
      "\n"
     ]
    }
   ],
   "source": [
    "knn(train_x,test_x,train_y,test_y)"
   ]
  },
  {
   "cell_type": "code",
   "execution_count": 48,
   "id": "e2f17d1a",
   "metadata": {},
   "outputs": [
    {
     "name": "stdout",
     "output_type": "stream",
     "text": [
      "**** Gradient Boosting Classifier ****\n",
      "Confusion Matrix\n",
      "[[24 19]\n",
      " [16 64]]\n",
      "Classification Report\n",
      "              precision    recall  f1-score   support\n",
      "\n",
      "           0       0.60      0.56      0.58        43\n",
      "           1       0.77      0.80      0.79        80\n",
      "\n",
      "    accuracy                           0.72       123\n",
      "   macro avg       0.69      0.68      0.68       123\n",
      "weighted avg       0.71      0.72      0.71       123\n",
      "\n"
     ]
    }
   ],
   "source": [
    "xgboost(train_x,test_x,train_y,test_y)"
   ]
  },
  {
   "cell_type": "code",
   "execution_count": 49,
   "id": "722b151f",
   "metadata": {},
   "outputs": [],
   "source": [
    "rf = RandomForestClassifier()\n",
    "rf.fit(train_x,train_y)\n",
    "ypred = rf.predict(test_x)"
   ]
  },
  {
   "cell_type": "code",
   "execution_count": 50,
   "id": "9d2b34b8",
   "metadata": {},
   "outputs": [
    {
     "data": {
      "text/plain": [
       "0.7763625723991818"
      ]
     },
     "execution_count": 50,
     "metadata": {},
     "output_type": "execute_result"
    }
   ],
   "source": [
    "f1_score(ypred,test_y,average='weighted')"
   ]
  },
  {
   "cell_type": "code",
   "execution_count": 51,
   "id": "dae21663",
   "metadata": {},
   "outputs": [],
   "source": [
    "cv = cross_val_score(rf,x,y,cv=5)"
   ]
  },
  {
   "cell_type": "code",
   "execution_count": 52,
   "id": "3fe28688",
   "metadata": {},
   "outputs": [
    {
     "data": {
      "text/plain": [
       "0.7882846861255498"
      ]
     },
     "execution_count": 52,
     "metadata": {},
     "output_type": "execute_result"
    }
   ],
   "source": [
    "np.mean(cv)"
   ]
  },
  {
   "cell_type": "code",
   "execution_count": 53,
   "id": "78ef2a2a",
   "metadata": {},
   "outputs": [
    {
     "data": {
      "text/plain": [
       "['model.pkl']"
      ]
     },
     "execution_count": 53,
     "metadata": {},
     "output_type": "execute_result"
    }
   ],
   "source": [
    "import joblib\n",
    "joblib.dump(rf,'model.pkl')"
   ]
  },
  {
   "cell_type": "code",
   "execution_count": null,
   "id": "1f30babd",
   "metadata": {},
   "outputs": [],
   "source": []
  },
  {
   "cell_type": "code",
   "execution_count": null,
   "id": "ba464edb",
   "metadata": {},
   "outputs": [],
   "source": []
  },
  {
   "cell_type": "code",
   "execution_count": null,
   "id": "6bf795d4",
   "metadata": {},
   "outputs": [],
   "source": []
  },
  {
   "cell_type": "code",
   "execution_count": null,
   "id": "852eb1f8",
   "metadata": {},
   "outputs": [],
   "source": []
  }
 ],
 "metadata": {
  "kernelspec": {
   "display_name": "Python 3 (ipykernel)",
   "language": "python",
   "name": "python3"
  },
  "language_info": {
   "codemirror_mode": {
    "name": "ipython",
    "version": 3
   },
   "file_extension": ".py",
   "mimetype": "text/x-python",
   "name": "python",
   "nbconvert_exporter": "python",
   "pygments_lexer": "ipython3",
   "version": "3.9.12"
  }
 },
 "nbformat": 4,
 "nbformat_minor": 5
}
