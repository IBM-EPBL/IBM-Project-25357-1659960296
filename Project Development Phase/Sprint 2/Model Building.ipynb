{
 "cells": [
  {
   "cell_type": "code",
   "execution_count": 1,
   "id": "15c6f549",
   "metadata": {},
   "outputs": [],
   "source": [
    "import pandas as pd\n",
    "import numpy as np\n",
    "from sklearn.preprocessing import MaxAbsScaler\n",
    "from sklearn.tree import DecisionTreeClassifier\n",
    "from sklearn.ensemble import RandomForestClassifier\n",
    "from sklearn.neighbors import KNeighborsClassifier\n",
    "from sklearn.ensemble import GradientBoostingClassifier\n",
    "from sklearn.metrics import confusion_matrix\n",
    "from sklearn.metrics import classification_report\n",
    "from sklearn.model_selection import cross_val_score\n",
    "from sklearn.metrics import f1_score\n",
    "import pickle"
   ]
  },
  {
   "cell_type": "code",
   "execution_count": 2,
   "id": "42dfe224",
   "metadata": {},
   "outputs": [],
   "source": [
    "scaler = MaxAbsScaler()"
   ]
  },
  {
   "cell_type": "code",
   "execution_count": 3,
   "id": "24d7cce7",
   "metadata": {},
   "outputs": [],
   "source": [
    "train = pd.read_csv('train.csv')"
   ]
  },
  {
   "cell_type": "code",
   "execution_count": 4,
   "id": "5072b35a",
   "metadata": {},
   "outputs": [],
   "source": [
    "test = pd.read_csv('test.csv')"
   ]
  },
  {
   "cell_type": "code",
   "execution_count": 5,
   "id": "c3bdf6e7",
   "metadata": {},
   "outputs": [
    {
     "data": {
      "text/html": [
       "<div>\n",
       "<style scoped>\n",
       "    .dataframe tbody tr th:only-of-type {\n",
       "        vertical-align: middle;\n",
       "    }\n",
       "\n",
       "    .dataframe tbody tr th {\n",
       "        vertical-align: top;\n",
       "    }\n",
       "\n",
       "    .dataframe thead th {\n",
       "        text-align: right;\n",
       "    }\n",
       "</style>\n",
       "<table border=\"1\" class=\"dataframe\">\n",
       "  <thead>\n",
       "    <tr style=\"text-align: right;\">\n",
       "      <th></th>\n",
       "      <th>Gender</th>\n",
       "      <th>Married</th>\n",
       "      <th>Dependents</th>\n",
       "      <th>Education</th>\n",
       "      <th>Self_Employed</th>\n",
       "      <th>ApplicantIncome</th>\n",
       "      <th>CoapplicantIncome</th>\n",
       "      <th>LoanAmount</th>\n",
       "      <th>Loan_Amount_Term</th>\n",
       "      <th>Credit_History</th>\n",
       "      <th>Property_Area</th>\n",
       "      <th>Loan_Status</th>\n",
       "    </tr>\n",
       "  </thead>\n",
       "  <tbody>\n",
       "    <tr>\n",
       "      <th>0</th>\n",
       "      <td>1</td>\n",
       "      <td>1</td>\n",
       "      <td>0</td>\n",
       "      <td>0</td>\n",
       "      <td>0</td>\n",
       "      <td>8.699515</td>\n",
       "      <td>2250.0</td>\n",
       "      <td>5.579730</td>\n",
       "      <td>360.0</td>\n",
       "      <td>1</td>\n",
       "      <td>1</td>\n",
       "      <td>0</td>\n",
       "    </tr>\n",
       "    <tr>\n",
       "      <th>1</th>\n",
       "      <td>1</td>\n",
       "      <td>1</td>\n",
       "      <td>0</td>\n",
       "      <td>0</td>\n",
       "      <td>0</td>\n",
       "      <td>7.992269</td>\n",
       "      <td>2900.0</td>\n",
       "      <td>4.875197</td>\n",
       "      <td>360.0</td>\n",
       "      <td>1</td>\n",
       "      <td>1</td>\n",
       "      <td>1</td>\n",
       "    </tr>\n",
       "    <tr>\n",
       "      <th>2</th>\n",
       "      <td>1</td>\n",
       "      <td>1</td>\n",
       "      <td>2</td>\n",
       "      <td>0</td>\n",
       "      <td>0</td>\n",
       "      <td>8.740337</td>\n",
       "      <td>1695.0</td>\n",
       "      <td>5.347108</td>\n",
       "      <td>360.0</td>\n",
       "      <td>1</td>\n",
       "      <td>1</td>\n",
       "      <td>1</td>\n",
       "    </tr>\n",
       "    <tr>\n",
       "      <th>3</th>\n",
       "      <td>1</td>\n",
       "      <td>1</td>\n",
       "      <td>0</td>\n",
       "      <td>0</td>\n",
       "      <td>0</td>\n",
       "      <td>7.641564</td>\n",
       "      <td>3150.0</td>\n",
       "      <td>4.852030</td>\n",
       "      <td>360.0</td>\n",
       "      <td>1</td>\n",
       "      <td>1</td>\n",
       "      <td>1</td>\n",
       "    </tr>\n",
       "    <tr>\n",
       "      <th>4</th>\n",
       "      <td>1</td>\n",
       "      <td>0</td>\n",
       "      <td>0</td>\n",
       "      <td>0</td>\n",
       "      <td>0</td>\n",
       "      <td>8.334712</td>\n",
       "      <td>0.0</td>\n",
       "      <td>4.584967</td>\n",
       "      <td>360.0</td>\n",
       "      <td>0</td>\n",
       "      <td>1</td>\n",
       "      <td>0</td>\n",
       "    </tr>\n",
       "  </tbody>\n",
       "</table>\n",
       "</div>"
      ],
      "text/plain": [
       "   Gender  Married  Dependents  Education  Self_Employed  ApplicantIncome  \\\n",
       "0       1        1           0          0              0         8.699515   \n",
       "1       1        1           0          0              0         7.992269   \n",
       "2       1        1           2          0              0         8.740337   \n",
       "3       1        1           0          0              0         7.641564   \n",
       "4       1        0           0          0              0         8.334712   \n",
       "\n",
       "   CoapplicantIncome  LoanAmount  Loan_Amount_Term  Credit_History  \\\n",
       "0             2250.0    5.579730             360.0               1   \n",
       "1             2900.0    4.875197             360.0               1   \n",
       "2             1695.0    5.347108             360.0               1   \n",
       "3             3150.0    4.852030             360.0               1   \n",
       "4                0.0    4.584967             360.0               0   \n",
       "\n",
       "   Property_Area  Loan_Status  \n",
       "0              1            0  \n",
       "1              1            1  \n",
       "2              1            1  \n",
       "3              1            1  \n",
       "4              1            0  "
      ]
     },
     "execution_count": 5,
     "metadata": {},
     "output_type": "execute_result"
    }
   ],
   "source": [
    "train.head()"
   ]
  },
  {
   "cell_type": "code",
   "execution_count": 6,
   "id": "06189906",
   "metadata": {},
   "outputs": [],
   "source": [
    "train_y = train.iloc[:,-1]"
   ]
  },
  {
   "cell_type": "code",
   "execution_count": 7,
   "id": "011a12b0",
   "metadata": {},
   "outputs": [],
   "source": [
    "train_x = train.drop('Loan_Status',axis=1)"
   ]
  },
  {
   "cell_type": "code",
   "execution_count": 8,
   "id": "13da6e90",
   "metadata": {},
   "outputs": [],
   "source": [
    "test_y = test.iloc[:,-1]"
   ]
  },
  {
   "cell_type": "code",
   "execution_count": 9,
   "id": "488e12b5",
   "metadata": {},
   "outputs": [],
   "source": [
    "test_x = test.drop('Loan_Status',axis=1)"
   ]
  },
  {
   "cell_type": "code",
   "execution_count": 10,
   "id": "ae66833f",
   "metadata": {},
   "outputs": [],
   "source": [
    "x = pd.concat([train_x,test_x],axis=0)\n",
    "y = pd.concat([train_y,test_y],axis=0)"
   ]
  },
  {
   "cell_type": "code",
   "execution_count": 11,
   "id": "b7e9e9e8",
   "metadata": {},
   "outputs": [],
   "source": [
    "train_x = scaler.fit_transform(train_x)"
   ]
  },
  {
   "cell_type": "code",
   "execution_count": 12,
   "id": "831fcdaf",
   "metadata": {},
   "outputs": [],
   "source": [
    "test_x = scaler.transform(test_x)"
   ]
  },
  {
   "cell_type": "markdown",
   "id": "e52529c9",
   "metadata": {},
   "source": [
    "# DecisionTree"
   ]
  },
  {
   "cell_type": "code",
   "execution_count": 13,
   "id": "2b10e8ac",
   "metadata": {},
   "outputs": [],
   "source": [
    "def decisionTree(train_x,test_x,train_y,test_y):\n",
    "    dt = DecisionTreeClassifier()\n",
    "    dt.fit(train_x,train_y)\n",
    "    y_pred = dt.predict(test_x)\n",
    "    print(\"**** Decision Tree Classifier ****\")\n",
    "    print('Confusion Matrix')\n",
    "    print(confusion_matrix(test_y,y_pred))\n",
    "    print('Classification Report')\n",
    "    print(classification_report(test_y,y_pred))"
   ]
  },
  {
   "cell_type": "markdown",
   "id": "dc3ea0c7",
   "metadata": {},
   "source": [
    "# RandomForest"
   ]
  },
  {
   "cell_type": "code",
   "execution_count": 14,
   "id": "3865daba",
   "metadata": {},
   "outputs": [],
   "source": [
    "def randomForest(train_x,test_x,train_y,test_y):\n",
    "    rf = RandomForestClassifier()\n",
    "    rf.fit(train_x,train_y)\n",
    "    y_pred = rf.predict(test_x)\n",
    "    print(\"**** Random Forest Classifier ****\")\n",
    "    print('Confusion Matrix')\n",
    "    print(confusion_matrix(test_y,y_pred))\n",
    "    print('Classification Report')\n",
    "    print(classification_report(test_y,y_pred))"
   ]
  },
  {
   "cell_type": "markdown",
   "id": "11e71775",
   "metadata": {},
   "source": [
    "# Knn"
   ]
  },
  {
   "cell_type": "code",
   "execution_count": 15,
   "id": "49ddb193",
   "metadata": {},
   "outputs": [],
   "source": [
    "def knn(train_x,test_x,train_y,test_y):\n",
    "    knn = KNeighborsClassifier()\n",
    "    knn.fit(train_x,train_y)\n",
    "    y_pred = knn.predict(test_x)\n",
    "    print(\"**** KNeighbour Classifier ****\")\n",
    "    print('Confusion Matrix')\n",
    "    print(confusion_matrix(test_y,y_pred))\n",
    "    print('Classification Report')\n",
    "    print(classification_report(test_y,y_pred))"
   ]
  },
  {
   "cell_type": "markdown",
   "id": "ae36223b",
   "metadata": {},
   "source": [
    "# xgboost"
   ]
  },
  {
   "cell_type": "code",
   "execution_count": 16,
   "id": "a8f553bb",
   "metadata": {},
   "outputs": [],
   "source": [
    "def xgboost(train_x,test_x,train_y,test_y):\n",
    "    xg = GradientBoostingClassifier()\n",
    "    xg.fit(train_x,train_y)\n",
    "    y_pred = xg.predict(test_x)\n",
    "    print(\"**** Gradient Boosting Classifier ****\")\n",
    "    print('Confusion Matrix')\n",
    "    print(confusion_matrix(test_y,y_pred))\n",
    "    print('Classification Report')\n",
    "    print(classification_report(test_y,y_pred))"
   ]
  },
  {
   "cell_type": "markdown",
   "id": "15bd2edf",
   "metadata": {},
   "source": [
    "# Comparing The Models"
   ]
  },
  {
   "cell_type": "code",
   "execution_count": 17,
   "id": "b3fe139e",
   "metadata": {},
   "outputs": [
    {
     "name": "stdout",
     "output_type": "stream",
     "text": [
      "**** Decision Tree Classifier ****\n",
      "Confusion Matrix\n",
      "[[23 20]\n",
      " [14 66]]\n",
      "Classification Report\n",
      "              precision    recall  f1-score   support\n",
      "\n",
      "           0       0.62      0.53      0.57        43\n",
      "           1       0.77      0.82      0.80        80\n",
      "\n",
      "    accuracy                           0.72       123\n",
      "   macro avg       0.69      0.68      0.69       123\n",
      "weighted avg       0.72      0.72      0.72       123\n",
      "\n"
     ]
    }
   ],
   "source": [
    "decisionTree(train_x,test_x,train_y,test_y)"
   ]
  },
  {
   "cell_type": "code",
   "execution_count": 18,
   "id": "585cbfe3",
   "metadata": {},
   "outputs": [
    {
     "name": "stdout",
     "output_type": "stream",
     "text": [
      "**** Random Forest Classifier ****\n",
      "Confusion Matrix\n",
      "[[18 25]\n",
      " [ 5 75]]\n",
      "Classification Report\n",
      "              precision    recall  f1-score   support\n",
      "\n",
      "           0       0.78      0.42      0.55        43\n",
      "           1       0.75      0.94      0.83        80\n",
      "\n",
      "    accuracy                           0.76       123\n",
      "   macro avg       0.77      0.68      0.69       123\n",
      "weighted avg       0.76      0.76      0.73       123\n",
      "\n"
     ]
    }
   ],
   "source": [
    "randomForest(train_x,test_x,train_y,test_y)"
   ]
  },
  {
   "cell_type": "code",
   "execution_count": 19,
   "id": "2e04f537",
   "metadata": {},
   "outputs": [
    {
     "name": "stdout",
     "output_type": "stream",
     "text": [
      "**** KNeighbour Classifier ****\n",
      "Confusion Matrix\n",
      "[[18 25]\n",
      " [ 7 73]]\n",
      "Classification Report\n",
      "              precision    recall  f1-score   support\n",
      "\n",
      "           0       0.72      0.42      0.53        43\n",
      "           1       0.74      0.91      0.82        80\n",
      "\n",
      "    accuracy                           0.74       123\n",
      "   macro avg       0.73      0.67      0.67       123\n",
      "weighted avg       0.74      0.74      0.72       123\n",
      "\n"
     ]
    }
   ],
   "source": [
    "knn(train_x,test_x,train_y,test_y)"
   ]
  },
  {
   "cell_type": "code",
   "execution_count": 20,
   "id": "e2f17d1a",
   "metadata": {},
   "outputs": [
    {
     "name": "stdout",
     "output_type": "stream",
     "text": [
      "**** Gradient Boosting Classifier ****\n",
      "Confusion Matrix\n",
      "[[19 24]\n",
      " [ 7 73]]\n",
      "Classification Report\n",
      "              precision    recall  f1-score   support\n",
      "\n",
      "           0       0.73      0.44      0.55        43\n",
      "           1       0.75      0.91      0.82        80\n",
      "\n",
      "    accuracy                           0.75       123\n",
      "   macro avg       0.74      0.68      0.69       123\n",
      "weighted avg       0.74      0.75      0.73       123\n",
      "\n"
     ]
    }
   ],
   "source": [
    "xgboost(train_x,test_x,train_y,test_y)"
   ]
  },
  {
   "cell_type": "code",
   "execution_count": 27,
   "id": "722b151f",
   "metadata": {},
   "outputs": [],
   "source": [
    "rf = RandomForestClassifier()\n",
    "rf.fit(train_x,train_y)\n",
    "ypred = rf.predict(test_x)"
   ]
  },
  {
   "cell_type": "code",
   "execution_count": 23,
   "id": "9d2b34b8",
   "metadata": {},
   "outputs": [
    {
     "data": {
      "text/plain": [
       "0.8067630090820815"
      ]
     },
     "execution_count": 23,
     "metadata": {},
     "output_type": "execute_result"
    }
   ],
   "source": [
    "f1_score(ypred,test_y,average='weighted')"
   ]
  },
  {
   "cell_type": "code",
   "execution_count": 24,
   "id": "dae21663",
   "metadata": {},
   "outputs": [],
   "source": [
    "cv = cross_val_score(rf,x,y,cv=5)"
   ]
  },
  {
   "cell_type": "code",
   "execution_count": 25,
   "id": "3fe28688",
   "metadata": {},
   "outputs": [
    {
     "data": {
      "text/plain": [
       "0.7948020791683327"
      ]
     },
     "execution_count": 25,
     "metadata": {},
     "output_type": "execute_result"
    }
   ],
   "source": [
    "np.mean(cv)"
   ]
  },
  {
   "cell_type": "code",
   "execution_count": 26,
   "id": "78ef2a2a",
   "metadata": {},
   "outputs": [],
   "source": [
    "pickle.dump(rf,open('rdf.pkl','wb'))\n",
    "pickle.dump(scaler,open('scale.pkl','wb'))"
   ]
  },
  {
   "cell_type": "code",
   "execution_count": null,
   "id": "1f30babd",
   "metadata": {},
   "outputs": [],
   "source": []
  },
  {
   "cell_type": "code",
   "execution_count": null,
   "id": "ba464edb",
   "metadata": {},
   "outputs": [],
   "source": []
  }
 ],
 "metadata": {
  "kernelspec": {
   "display_name": "Python 3 (ipykernel)",
   "language": "python",
   "name": "python3"
  },
  "language_info": {
   "codemirror_mode": {
    "name": "ipython",
    "version": 3
   },
   "file_extension": ".py",
   "mimetype": "text/x-python",
   "name": "python",
   "nbconvert_exporter": "python",
   "pygments_lexer": "ipython3",
   "version": "3.9.12"
  }
 },
 "nbformat": 4,
 "nbformat_minor": 5
}
